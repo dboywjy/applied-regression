{
 "cells": [
  {
   "cell_type": "markdown",
   "metadata": {},
   "source": [
    "### collaborative filtering"
   ]
  },
  {
   "cell_type": "markdown",
   "metadata": {},
   "source": [
    "#### item based"
   ]
  },
  {
   "cell_type": "code",
   "execution_count": 1,
   "metadata": {},
   "outputs": [],
   "source": [
    "import pandas as pd\n",
    "import numpy as np\n",
    "import matplotlib.pyplot as plt\n",
    "import math"
   ]
  },
  {
   "cell_type": "code",
   "execution_count": 111,
   "metadata": {},
   "outputs": [],
   "source": [
    "import random\n",
    "rd = np.random.RandomState(0)\n",
    "data = np.random.randint(0, 2, [200, 50]) # 客户*商品矩阵"
   ]
  },
  {
   "cell_type": "code",
   "execution_count": 112,
   "metadata": {},
   "outputs": [],
   "source": [
    "import scipy.sparse\n",
    "dataSp = scipy.sparse.csr_matrix(data) # 转为稀疏矩阵便于存储计算"
   ]
  },
  {
   "cell_type": "markdown",
   "metadata": {},
   "source": [
    "#### 基于客户的协同过滤算法\n",
    "计算客户之间的相似度，将和该用户最相似的用户喜欢的物品推荐给该用户"
   ]
  },
  {
   "cell_type": "code",
   "execution_count": 113,
   "metadata": {},
   "outputs": [],
   "source": [
    "from sklearn.metrics.pairwise import cosine_similarity\n",
    "from scipy.spatial.distance import cosine\n",
    "\n",
    "usim = cosine_similarity(dataSp, dense_output=False) # 计算客户之间的相似度"
   ]
  },
  {
   "cell_type": "code",
   "execution_count": 117,
   "metadata": {},
   "outputs": [],
   "source": [
    "# 针对目标用户A，找到S个相似的人，并推荐K个商品\n",
    "S, K = 10, 5\n",
    "userNum = dataSp.shape[0] \n",
    "rec = {}\n",
    "for user in range(0, userNum): \n",
    "    usimi = [usim[0, i] for i in range(0, userNum)]\n",
    "    sorted_id = sorted(range(len(usimi)), key=lambda k: usimi[k], reverse=True)\n",
    "    usims = sorted_id[1:S+1]    # 找到最相似的S个人\n",
    "\n",
    "    item_rate = np.dot(usim[user, usims].toarray(), dataSp[usims, :].toarray())[0]  # 用户对每个商品的喜好程度\n",
    "    sorted_rate = sorted(range(len(item_rate)), key=lambda k: item_rate[k], reverse=True)  \n",
    "    # sorted_rate2 = [i for i in sorted_rate if dataSp[user, i] <= 0][0:K] # 没用过的商品排序选K个\n",
    "    sorted_rate2 = sorted_rate[0:K] # 排序选K个\n",
    "    \n",
    "    rec[user] = sorted_rate2\n"
   ]
  },
  {
   "cell_type": "code",
   "execution_count": 123,
   "metadata": {},
   "outputs": [
    {
     "name": "stdout",
     "output_type": "stream",
     "text": [
      "Evaluation start ...\n",
      "precisioin=0.0608\trecall=0.1216\tcoverage=0.2000\n"
     ]
    }
   ],
   "source": [
    "### 推荐类模型监控\n",
    "print(\"Evaluation start ...\")\n",
    "N = dataSp.shape[1]\n",
    "# 准确率和召回率\n",
    "hit = 0\n",
    "rec_count = 0\n",
    "test_count = 0\n",
    "# 覆盖率\n",
    "all_rec_movies = set()\n",
    "\n",
    "for tusr in range(150, dataSp.shape[0]): # 测试集样本为后50客户\n",
    "    test_items = [i for i in range(0, dataSp.shape[1]) if dataSp[tusr, i] > 0]\n",
    "    rec_items = rec[tusr]\n",
    "\n",
    "    for item in rec_items:\n",
    "        if item in test_items:\n",
    "            hit += 1\n",
    "        all_rec_movies.add(item)\n",
    "\n",
    "    rec_count += N\n",
    "    test_count += len(test_items)\n",
    "\n",
    "precision = hit / (1.0 * rec_count)\n",
    "recall = hit / (1.0 * test_count)\n",
    "coverage = len(all_rec_movies) / (1.0 * dataSp.shape[1])\n",
    "print('precisioin=%.4f\\trecall=%.4f\\tcoverage=%.4f' % (precision, recall, coverage))"
   ]
  },
  {
   "cell_type": "markdown",
   "metadata": {},
   "source": [
    "#### 基于物品的协同过滤算法\n",
    "只需要把data矩阵转置"
   ]
  }
 ],
 "metadata": {
  "kernelspec": {
   "display_name": "pytorch_gpu",
   "language": "python",
   "name": "python3"
  },
  "language_info": {
   "codemirror_mode": {
    "name": "ipython",
    "version": 3
   },
   "file_extension": ".py",
   "mimetype": "text/x-python",
   "name": "python",
   "nbconvert_exporter": "python",
   "pygments_lexer": "ipython3",
   "version": "3.7.11"
  },
  "orig_nbformat": 4
 },
 "nbformat": 4,
 "nbformat_minor": 2
}
